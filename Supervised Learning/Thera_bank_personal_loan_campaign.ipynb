{
 "cells": [
  {
   "cell_type": "markdown",
   "metadata": {},
   "source": [
    "## 1. Import the datasets and libraries, check datatype, statistical summary, shape, null values or incorrect imputation. (5 marks)"
   ]
  },
  {
   "cell_type": "code",
   "execution_count": 49,
   "metadata": {},
   "outputs": [],
   "source": [
    "#Importing all the necesary libararies \n",
    "\n",
    "import numpy as np\n",
    "from scipy import stats\n",
    "import pandas as pd\n",
    "import matplotlib.pyplot as plt\n",
    "%matplotlib inline\n",
    "import seaborn as sns\n",
    "from sklearn.linear_model import LogisticRegression\n",
    "\n",
    "#Sklearn package's data splitting function which is based on random function\n",
    "from sklearn.model_selection import train_test_split \n",
    "\n",
    "#calculate accuracy measures and confusion matrix\n",
    "from sklearn import metrics  \n",
    "\n",
    "import warnings\n",
    "warnings.filterwarnings(\"ignore\")"
   ]
  },
  {
   "cell_type": "code",
   "execution_count": 50,
   "metadata": {},
   "outputs": [],
   "source": [
    "#loading the given dataset\n",
    "df1 = pd.read_csv(\"Bank_Personal_Loan_Modelling.csv\")"
   ]
  },
  {
   "cell_type": "code",
   "execution_count": 51,
   "metadata": {},
   "outputs": [
    {
     "data": {
      "text/html": [
       "<div>\n",
       "<style scoped>\n",
       "    .dataframe tbody tr th:only-of-type {\n",
       "        vertical-align: middle;\n",
       "    }\n",
       "\n",
       "    .dataframe tbody tr th {\n",
       "        vertical-align: top;\n",
       "    }\n",
       "\n",
       "    .dataframe thead th {\n",
       "        text-align: right;\n",
       "    }\n",
       "</style>\n",
       "<table border=\"1\" class=\"dataframe\">\n",
       "  <thead>\n",
       "    <tr style=\"text-align: right;\">\n",
       "      <th></th>\n",
       "      <th>ID</th>\n",
       "      <th>Age</th>\n",
       "      <th>Experience</th>\n",
       "      <th>Income</th>\n",
       "      <th>ZIP Code</th>\n",
       "      <th>Family</th>\n",
       "      <th>CCAvg</th>\n",
       "      <th>Education</th>\n",
       "      <th>Mortgage</th>\n",
       "      <th>Personal Loan</th>\n",
       "      <th>Securities Account</th>\n",
       "      <th>CD Account</th>\n",
       "      <th>Online</th>\n",
       "      <th>CreditCard</th>\n",
       "    </tr>\n",
       "  </thead>\n",
       "  <tbody>\n",
       "    <tr>\n",
       "      <th>0</th>\n",
       "      <td>1</td>\n",
       "      <td>25</td>\n",
       "      <td>1</td>\n",
       "      <td>49</td>\n",
       "      <td>91107</td>\n",
       "      <td>4</td>\n",
       "      <td>1.6</td>\n",
       "      <td>1</td>\n",
       "      <td>0</td>\n",
       "      <td>0</td>\n",
       "      <td>1</td>\n",
       "      <td>0</td>\n",
       "      <td>0</td>\n",
       "      <td>0</td>\n",
       "    </tr>\n",
       "    <tr>\n",
       "      <th>1</th>\n",
       "      <td>2</td>\n",
       "      <td>45</td>\n",
       "      <td>19</td>\n",
       "      <td>34</td>\n",
       "      <td>90089</td>\n",
       "      <td>3</td>\n",
       "      <td>1.5</td>\n",
       "      <td>1</td>\n",
       "      <td>0</td>\n",
       "      <td>0</td>\n",
       "      <td>1</td>\n",
       "      <td>0</td>\n",
       "      <td>0</td>\n",
       "      <td>0</td>\n",
       "    </tr>\n",
       "    <tr>\n",
       "      <th>2</th>\n",
       "      <td>3</td>\n",
       "      <td>39</td>\n",
       "      <td>15</td>\n",
       "      <td>11</td>\n",
       "      <td>94720</td>\n",
       "      <td>1</td>\n",
       "      <td>1.0</td>\n",
       "      <td>1</td>\n",
       "      <td>0</td>\n",
       "      <td>0</td>\n",
       "      <td>0</td>\n",
       "      <td>0</td>\n",
       "      <td>0</td>\n",
       "      <td>0</td>\n",
       "    </tr>\n",
       "    <tr>\n",
       "      <th>3</th>\n",
       "      <td>4</td>\n",
       "      <td>35</td>\n",
       "      <td>9</td>\n",
       "      <td>100</td>\n",
       "      <td>94112</td>\n",
       "      <td>1</td>\n",
       "      <td>2.7</td>\n",
       "      <td>2</td>\n",
       "      <td>0</td>\n",
       "      <td>0</td>\n",
       "      <td>0</td>\n",
       "      <td>0</td>\n",
       "      <td>0</td>\n",
       "      <td>0</td>\n",
       "    </tr>\n",
       "    <tr>\n",
       "      <th>4</th>\n",
       "      <td>5</td>\n",
       "      <td>35</td>\n",
       "      <td>8</td>\n",
       "      <td>45</td>\n",
       "      <td>91330</td>\n",
       "      <td>4</td>\n",
       "      <td>1.0</td>\n",
       "      <td>2</td>\n",
       "      <td>0</td>\n",
       "      <td>0</td>\n",
       "      <td>0</td>\n",
       "      <td>0</td>\n",
       "      <td>0</td>\n",
       "      <td>1</td>\n",
       "    </tr>\n",
       "  </tbody>\n",
       "</table>\n",
       "</div>"
      ],
      "text/plain": [
       "   ID  Age  Experience  Income  ZIP Code  Family  CCAvg  Education  Mortgage  \\\n",
       "0   1   25           1      49     91107       4    1.6          1         0   \n",
       "1   2   45          19      34     90089       3    1.5          1         0   \n",
       "2   3   39          15      11     94720       1    1.0          1         0   \n",
       "3   4   35           9     100     94112       1    2.7          2         0   \n",
       "4   5   35           8      45     91330       4    1.0          2         0   \n",
       "\n",
       "   Personal Loan  Securities Account  CD Account  Online  CreditCard  \n",
       "0              0                   1           0       0           0  \n",
       "1              0                   1           0       0           0  \n",
       "2              0                   0           0       0           0  \n",
       "3              0                   0           0       0           0  \n",
       "4              0                   0           0       0           1  "
      ]
     },
     "execution_count": 51,
     "metadata": {},
     "output_type": "execute_result"
    }
   ],
   "source": [
    "#Displaying the first five dataframes of dataset\n",
    "df1.head()"
   ]
  },
  {
   "cell_type": "code",
   "execution_count": 4,
   "metadata": {},
   "outputs": [
    {
     "data": {
      "text/plain": [
       "ID                      int64\n",
       "Age                     int64\n",
       "Experience              int64\n",
       "Income                  int64\n",
       "ZIP Code                int64\n",
       "Family                  int64\n",
       "CCAvg                 float64\n",
       "Education               int64\n",
       "Mortgage                int64\n",
       "Personal Loan           int64\n",
       "Securities Account      int64\n",
       "CD Account              int64\n",
       "Online                  int64\n",
       "CreditCard              int64\n",
       "dtype: object"
      ]
     },
     "execution_count": 4,
     "metadata": {},
     "output_type": "execute_result"
    }
   ],
   "source": [
    "#Checking the datatype\n",
    "df1.dtypes"
   ]
  },
  {
   "cell_type": "code",
   "execution_count": 5,
   "metadata": {},
   "outputs": [
    {
     "data": {
      "text/html": [
       "<div>\n",
       "<style scoped>\n",
       "    .dataframe tbody tr th:only-of-type {\n",
       "        vertical-align: middle;\n",
       "    }\n",
       "\n",
       "    .dataframe tbody tr th {\n",
       "        vertical-align: top;\n",
       "    }\n",
       "\n",
       "    .dataframe thead th {\n",
       "        text-align: right;\n",
       "    }\n",
       "</style>\n",
       "<table border=\"1\" class=\"dataframe\">\n",
       "  <thead>\n",
       "    <tr style=\"text-align: right;\">\n",
       "      <th></th>\n",
       "      <th>count</th>\n",
       "      <th>mean</th>\n",
       "      <th>std</th>\n",
       "      <th>min</th>\n",
       "      <th>25%</th>\n",
       "      <th>50%</th>\n",
       "      <th>75%</th>\n",
       "      <th>max</th>\n",
       "    </tr>\n",
       "  </thead>\n",
       "  <tbody>\n",
       "    <tr>\n",
       "      <th>ID</th>\n",
       "      <td>5000.0</td>\n",
       "      <td>2500.500000</td>\n",
       "      <td>1443.520003</td>\n",
       "      <td>1.0</td>\n",
       "      <td>1250.75</td>\n",
       "      <td>2500.5</td>\n",
       "      <td>3750.25</td>\n",
       "      <td>5000.0</td>\n",
       "    </tr>\n",
       "    <tr>\n",
       "      <th>Age</th>\n",
       "      <td>5000.0</td>\n",
       "      <td>45.338400</td>\n",
       "      <td>11.463166</td>\n",
       "      <td>23.0</td>\n",
       "      <td>35.00</td>\n",
       "      <td>45.0</td>\n",
       "      <td>55.00</td>\n",
       "      <td>67.0</td>\n",
       "    </tr>\n",
       "    <tr>\n",
       "      <th>Experience</th>\n",
       "      <td>5000.0</td>\n",
       "      <td>20.104600</td>\n",
       "      <td>11.467954</td>\n",
       "      <td>-3.0</td>\n",
       "      <td>10.00</td>\n",
       "      <td>20.0</td>\n",
       "      <td>30.00</td>\n",
       "      <td>43.0</td>\n",
       "    </tr>\n",
       "    <tr>\n",
       "      <th>Income</th>\n",
       "      <td>5000.0</td>\n",
       "      <td>73.774200</td>\n",
       "      <td>46.033729</td>\n",
       "      <td>8.0</td>\n",
       "      <td>39.00</td>\n",
       "      <td>64.0</td>\n",
       "      <td>98.00</td>\n",
       "      <td>224.0</td>\n",
       "    </tr>\n",
       "    <tr>\n",
       "      <th>ZIP Code</th>\n",
       "      <td>5000.0</td>\n",
       "      <td>93152.503000</td>\n",
       "      <td>2121.852197</td>\n",
       "      <td>9307.0</td>\n",
       "      <td>91911.00</td>\n",
       "      <td>93437.0</td>\n",
       "      <td>94608.00</td>\n",
       "      <td>96651.0</td>\n",
       "    </tr>\n",
       "    <tr>\n",
       "      <th>Family</th>\n",
       "      <td>5000.0</td>\n",
       "      <td>2.396400</td>\n",
       "      <td>1.147663</td>\n",
       "      <td>1.0</td>\n",
       "      <td>1.00</td>\n",
       "      <td>2.0</td>\n",
       "      <td>3.00</td>\n",
       "      <td>4.0</td>\n",
       "    </tr>\n",
       "    <tr>\n",
       "      <th>CCAvg</th>\n",
       "      <td>5000.0</td>\n",
       "      <td>1.937938</td>\n",
       "      <td>1.747659</td>\n",
       "      <td>0.0</td>\n",
       "      <td>0.70</td>\n",
       "      <td>1.5</td>\n",
       "      <td>2.50</td>\n",
       "      <td>10.0</td>\n",
       "    </tr>\n",
       "    <tr>\n",
       "      <th>Education</th>\n",
       "      <td>5000.0</td>\n",
       "      <td>1.881000</td>\n",
       "      <td>0.839869</td>\n",
       "      <td>1.0</td>\n",
       "      <td>1.00</td>\n",
       "      <td>2.0</td>\n",
       "      <td>3.00</td>\n",
       "      <td>3.0</td>\n",
       "    </tr>\n",
       "    <tr>\n",
       "      <th>Mortgage</th>\n",
       "      <td>5000.0</td>\n",
       "      <td>56.498800</td>\n",
       "      <td>101.713802</td>\n",
       "      <td>0.0</td>\n",
       "      <td>0.00</td>\n",
       "      <td>0.0</td>\n",
       "      <td>101.00</td>\n",
       "      <td>635.0</td>\n",
       "    </tr>\n",
       "    <tr>\n",
       "      <th>Personal Loan</th>\n",
       "      <td>5000.0</td>\n",
       "      <td>0.096000</td>\n",
       "      <td>0.294621</td>\n",
       "      <td>0.0</td>\n",
       "      <td>0.00</td>\n",
       "      <td>0.0</td>\n",
       "      <td>0.00</td>\n",
       "      <td>1.0</td>\n",
       "    </tr>\n",
       "    <tr>\n",
       "      <th>Securities Account</th>\n",
       "      <td>5000.0</td>\n",
       "      <td>0.104400</td>\n",
       "      <td>0.305809</td>\n",
       "      <td>0.0</td>\n",
       "      <td>0.00</td>\n",
       "      <td>0.0</td>\n",
       "      <td>0.00</td>\n",
       "      <td>1.0</td>\n",
       "    </tr>\n",
       "    <tr>\n",
       "      <th>CD Account</th>\n",
       "      <td>5000.0</td>\n",
       "      <td>0.060400</td>\n",
       "      <td>0.238250</td>\n",
       "      <td>0.0</td>\n",
       "      <td>0.00</td>\n",
       "      <td>0.0</td>\n",
       "      <td>0.00</td>\n",
       "      <td>1.0</td>\n",
       "    </tr>\n",
       "    <tr>\n",
       "      <th>Online</th>\n",
       "      <td>5000.0</td>\n",
       "      <td>0.596800</td>\n",
       "      <td>0.490589</td>\n",
       "      <td>0.0</td>\n",
       "      <td>0.00</td>\n",
       "      <td>1.0</td>\n",
       "      <td>1.00</td>\n",
       "      <td>1.0</td>\n",
       "    </tr>\n",
       "    <tr>\n",
       "      <th>CreditCard</th>\n",
       "      <td>5000.0</td>\n",
       "      <td>0.294000</td>\n",
       "      <td>0.455637</td>\n",
       "      <td>0.0</td>\n",
       "      <td>0.00</td>\n",
       "      <td>0.0</td>\n",
       "      <td>1.00</td>\n",
       "      <td>1.0</td>\n",
       "    </tr>\n",
       "  </tbody>\n",
       "</table>\n",
       "</div>"
      ],
      "text/plain": [
       "                     count          mean          std     min       25%  \\\n",
       "ID                  5000.0   2500.500000  1443.520003     1.0   1250.75   \n",
       "Age                 5000.0     45.338400    11.463166    23.0     35.00   \n",
       "Experience          5000.0     20.104600    11.467954    -3.0     10.00   \n",
       "Income              5000.0     73.774200    46.033729     8.0     39.00   \n",
       "ZIP Code            5000.0  93152.503000  2121.852197  9307.0  91911.00   \n",
       "Family              5000.0      2.396400     1.147663     1.0      1.00   \n",
       "CCAvg               5000.0      1.937938     1.747659     0.0      0.70   \n",
       "Education           5000.0      1.881000     0.839869     1.0      1.00   \n",
       "Mortgage            5000.0     56.498800   101.713802     0.0      0.00   \n",
       "Personal Loan       5000.0      0.096000     0.294621     0.0      0.00   \n",
       "Securities Account  5000.0      0.104400     0.305809     0.0      0.00   \n",
       "CD Account          5000.0      0.060400     0.238250     0.0      0.00   \n",
       "Online              5000.0      0.596800     0.490589     0.0      0.00   \n",
       "CreditCard          5000.0      0.294000     0.455637     0.0      0.00   \n",
       "\n",
       "                        50%       75%      max  \n",
       "ID                   2500.5   3750.25   5000.0  \n",
       "Age                    45.0     55.00     67.0  \n",
       "Experience             20.0     30.00     43.0  \n",
       "Income                 64.0     98.00    224.0  \n",
       "ZIP Code            93437.0  94608.00  96651.0  \n",
       "Family                  2.0      3.00      4.0  \n",
       "CCAvg                   1.5      2.50     10.0  \n",
       "Education               2.0      3.00      3.0  \n",
       "Mortgage                0.0    101.00    635.0  \n",
       "Personal Loan           0.0      0.00      1.0  \n",
       "Securities Account      0.0      0.00      1.0  \n",
       "CD Account              0.0      0.00      1.0  \n",
       "Online                  1.0      1.00      1.0  \n",
       "CreditCard              0.0      1.00      1.0  "
      ]
     },
     "execution_count": 5,
     "metadata": {},
     "output_type": "execute_result"
    }
   ],
   "source": [
    "#checking the statistical summary of dataset\n",
    "df1.describe().T"
   ]
  },
  {
   "cell_type": "code",
   "execution_count": 6,
   "metadata": {},
   "outputs": [
    {
     "data": {
      "text/plain": [
       "(5000, 14)"
      ]
     },
     "execution_count": 6,
     "metadata": {},
     "output_type": "execute_result"
    }
   ],
   "source": [
    "#Shape of the dataset\n",
    "df1.shape"
   ]
  },
  {
   "cell_type": "code",
   "execution_count": 7,
   "metadata": {},
   "outputs": [
    {
     "data": {
      "text/plain": [
       "False"
      ]
     },
     "execution_count": 7,
     "metadata": {},
     "output_type": "execute_result"
    }
   ],
   "source": [
    "#Checking the Null values if there are any\n",
    "df1.isnull().values.any()"
   ]
  },
  {
   "cell_type": "code",
   "execution_count": 8,
   "metadata": {},
   "outputs": [
    {
     "data": {
      "text/html": [
       "<div>\n",
       "<style scoped>\n",
       "    .dataframe tbody tr th:only-of-type {\n",
       "        vertical-align: middle;\n",
       "    }\n",
       "\n",
       "    .dataframe tbody tr th {\n",
       "        vertical-align: top;\n",
       "    }\n",
       "\n",
       "    .dataframe thead th {\n",
       "        text-align: right;\n",
       "    }\n",
       "</style>\n",
       "<table border=\"1\" class=\"dataframe\">\n",
       "  <thead>\n",
       "    <tr style=\"text-align: right;\">\n",
       "      <th></th>\n",
       "      <th>count</th>\n",
       "      <th>mean</th>\n",
       "      <th>std</th>\n",
       "      <th>min</th>\n",
       "      <th>25%</th>\n",
       "      <th>50%</th>\n",
       "      <th>75%</th>\n",
       "      <th>max</th>\n",
       "    </tr>\n",
       "  </thead>\n",
       "  <tbody>\n",
       "    <tr>\n",
       "      <th>ID</th>\n",
       "      <td>5000.0</td>\n",
       "      <td>2500.500000</td>\n",
       "      <td>1443.520003</td>\n",
       "      <td>1.0</td>\n",
       "      <td>1250.75</td>\n",
       "      <td>2500.5</td>\n",
       "      <td>3750.25</td>\n",
       "      <td>5000.0</td>\n",
       "    </tr>\n",
       "    <tr>\n",
       "      <th>Age</th>\n",
       "      <td>5000.0</td>\n",
       "      <td>45.338400</td>\n",
       "      <td>11.463166</td>\n",
       "      <td>23.0</td>\n",
       "      <td>35.00</td>\n",
       "      <td>45.0</td>\n",
       "      <td>55.00</td>\n",
       "      <td>67.0</td>\n",
       "    </tr>\n",
       "    <tr>\n",
       "      <th>Experience</th>\n",
       "      <td>5000.0</td>\n",
       "      <td>20.134600</td>\n",
       "      <td>11.415189</td>\n",
       "      <td>0.0</td>\n",
       "      <td>10.00</td>\n",
       "      <td>20.0</td>\n",
       "      <td>30.00</td>\n",
       "      <td>43.0</td>\n",
       "    </tr>\n",
       "    <tr>\n",
       "      <th>Income</th>\n",
       "      <td>5000.0</td>\n",
       "      <td>73.774200</td>\n",
       "      <td>46.033729</td>\n",
       "      <td>8.0</td>\n",
       "      <td>39.00</td>\n",
       "      <td>64.0</td>\n",
       "      <td>98.00</td>\n",
       "      <td>224.0</td>\n",
       "    </tr>\n",
       "    <tr>\n",
       "      <th>ZIP Code</th>\n",
       "      <td>5000.0</td>\n",
       "      <td>93152.503000</td>\n",
       "      <td>2121.852197</td>\n",
       "      <td>9307.0</td>\n",
       "      <td>91911.00</td>\n",
       "      <td>93437.0</td>\n",
       "      <td>94608.00</td>\n",
       "      <td>96651.0</td>\n",
       "    </tr>\n",
       "    <tr>\n",
       "      <th>Family</th>\n",
       "      <td>5000.0</td>\n",
       "      <td>2.396400</td>\n",
       "      <td>1.147663</td>\n",
       "      <td>1.0</td>\n",
       "      <td>1.00</td>\n",
       "      <td>2.0</td>\n",
       "      <td>3.00</td>\n",
       "      <td>4.0</td>\n",
       "    </tr>\n",
       "    <tr>\n",
       "      <th>CCAvg</th>\n",
       "      <td>5000.0</td>\n",
       "      <td>1.937938</td>\n",
       "      <td>1.747659</td>\n",
       "      <td>0.0</td>\n",
       "      <td>0.70</td>\n",
       "      <td>1.5</td>\n",
       "      <td>2.50</td>\n",
       "      <td>10.0</td>\n",
       "    </tr>\n",
       "    <tr>\n",
       "      <th>Education</th>\n",
       "      <td>5000.0</td>\n",
       "      <td>1.881000</td>\n",
       "      <td>0.839869</td>\n",
       "      <td>1.0</td>\n",
       "      <td>1.00</td>\n",
       "      <td>2.0</td>\n",
       "      <td>3.00</td>\n",
       "      <td>3.0</td>\n",
       "    </tr>\n",
       "    <tr>\n",
       "      <th>Mortgage</th>\n",
       "      <td>5000.0</td>\n",
       "      <td>56.498800</td>\n",
       "      <td>101.713802</td>\n",
       "      <td>0.0</td>\n",
       "      <td>0.00</td>\n",
       "      <td>0.0</td>\n",
       "      <td>101.00</td>\n",
       "      <td>635.0</td>\n",
       "    </tr>\n",
       "    <tr>\n",
       "      <th>Personal Loan</th>\n",
       "      <td>5000.0</td>\n",
       "      <td>0.096000</td>\n",
       "      <td>0.294621</td>\n",
       "      <td>0.0</td>\n",
       "      <td>0.00</td>\n",
       "      <td>0.0</td>\n",
       "      <td>0.00</td>\n",
       "      <td>1.0</td>\n",
       "    </tr>\n",
       "    <tr>\n",
       "      <th>Securities Account</th>\n",
       "      <td>5000.0</td>\n",
       "      <td>0.104400</td>\n",
       "      <td>0.305809</td>\n",
       "      <td>0.0</td>\n",
       "      <td>0.00</td>\n",
       "      <td>0.0</td>\n",
       "      <td>0.00</td>\n",
       "      <td>1.0</td>\n",
       "    </tr>\n",
       "    <tr>\n",
       "      <th>CD Account</th>\n",
       "      <td>5000.0</td>\n",
       "      <td>0.060400</td>\n",
       "      <td>0.238250</td>\n",
       "      <td>0.0</td>\n",
       "      <td>0.00</td>\n",
       "      <td>0.0</td>\n",
       "      <td>0.00</td>\n",
       "      <td>1.0</td>\n",
       "    </tr>\n",
       "    <tr>\n",
       "      <th>Online</th>\n",
       "      <td>5000.0</td>\n",
       "      <td>0.596800</td>\n",
       "      <td>0.490589</td>\n",
       "      <td>0.0</td>\n",
       "      <td>0.00</td>\n",
       "      <td>1.0</td>\n",
       "      <td>1.00</td>\n",
       "      <td>1.0</td>\n",
       "    </tr>\n",
       "    <tr>\n",
       "      <th>CreditCard</th>\n",
       "      <td>5000.0</td>\n",
       "      <td>0.294000</td>\n",
       "      <td>0.455637</td>\n",
       "      <td>0.0</td>\n",
       "      <td>0.00</td>\n",
       "      <td>0.0</td>\n",
       "      <td>1.00</td>\n",
       "      <td>1.0</td>\n",
       "    </tr>\n",
       "  </tbody>\n",
       "</table>\n",
       "</div>"
      ],
      "text/plain": [
       "                     count          mean          std     min       25%  \\\n",
       "ID                  5000.0   2500.500000  1443.520003     1.0   1250.75   \n",
       "Age                 5000.0     45.338400    11.463166    23.0     35.00   \n",
       "Experience          5000.0     20.134600    11.415189     0.0     10.00   \n",
       "Income              5000.0     73.774200    46.033729     8.0     39.00   \n",
       "ZIP Code            5000.0  93152.503000  2121.852197  9307.0  91911.00   \n",
       "Family              5000.0      2.396400     1.147663     1.0      1.00   \n",
       "CCAvg               5000.0      1.937938     1.747659     0.0      0.70   \n",
       "Education           5000.0      1.881000     0.839869     1.0      1.00   \n",
       "Mortgage            5000.0     56.498800   101.713802     0.0      0.00   \n",
       "Personal Loan       5000.0      0.096000     0.294621     0.0      0.00   \n",
       "Securities Account  5000.0      0.104400     0.305809     0.0      0.00   \n",
       "CD Account          5000.0      0.060400     0.238250     0.0      0.00   \n",
       "Online              5000.0      0.596800     0.490589     0.0      0.00   \n",
       "CreditCard          5000.0      0.294000     0.455637     0.0      0.00   \n",
       "\n",
       "                        50%       75%      max  \n",
       "ID                   2500.5   3750.25   5000.0  \n",
       "Age                    45.0     55.00     67.0  \n",
       "Experience             20.0     30.00     43.0  \n",
       "Income                 64.0     98.00    224.0  \n",
       "ZIP Code            93437.0  94608.00  96651.0  \n",
       "Family                  2.0      3.00      4.0  \n",
       "CCAvg                   1.5      2.50     10.0  \n",
       "Education               2.0      3.00      3.0  \n",
       "Mortgage                0.0    101.00    635.0  \n",
       "Personal Loan           0.0      0.00      1.0  \n",
       "Securities Account      0.0      0.00      1.0  \n",
       "CD Account              0.0      0.00      1.0  \n",
       "Online                  1.0      1.00      1.0  \n",
       "CreditCard              0.0      1.00      1.0  "
      ]
     },
     "execution_count": 8,
     "metadata": {},
     "output_type": "execute_result"
    }
   ],
   "source": [
    "# Incorrect Incomputation\n",
    "# From the above statistical analysis we can see the Eperience column has some negative values which is very unlikely.\n",
    "# So in order to fix this incorrect incomputation we can replace those negative values with absolute number by using .abs()\n",
    "df1[\"Experience\"] = df1[\"Experience\"].abs()\n",
    "df1.describe().T"
   ]
  },
  {
   "cell_type": "code",
   "execution_count": 9,
   "metadata": {},
   "outputs": [
    {
     "data": {
      "text/plain": [
       "32    154\n",
       "20    148\n",
       "9     147\n",
       "5     146\n",
       "23    144\n",
       "35    143\n",
       "25    142\n",
       "28    138\n",
       "18    137\n",
       "19    135\n",
       "26    134\n",
       "3     133\n",
       "24    131\n",
       "16    127\n",
       "14    127\n",
       "30    126\n",
       "34    125\n",
       "27    125\n",
       "17    125\n",
       "22    124\n",
       "29    124\n",
       "7     121\n",
       "6     119\n",
       "8     119\n",
       "15    119\n",
       "10    118\n",
       "33    117\n",
       "13    117\n",
       "37    116\n",
       "11    116\n",
       "36    114\n",
       "21    113\n",
       "4     113\n",
       "1     107\n",
       "31    104\n",
       "12    102\n",
       "2     100\n",
       "38     88\n",
       "39     85\n",
       "0      66\n",
       "40     57\n",
       "41     43\n",
       "42      8\n",
       "43      3\n",
       "Name: Experience, dtype: int64"
      ]
     },
     "execution_count": 9,
     "metadata": {},
     "output_type": "execute_result"
    }
   ],
   "source": [
    "df1[\"Experience\"].value_counts()"
   ]
  },
  {
   "cell_type": "markdown",
   "metadata": {},
   "source": [
    "## 2. EDA: Study the data distribution in each attribute and target variable, share your findings. (20 marks)\n",
    " Number of unique in each column?\n",
    "\n",
    " Number of people with zero mortgage?\n",
    "\n",
    " Number of people with zero credit card spending per month?\n",
    "\n",
    " Value counts of all categorical columns.\n",
    "\n",
    " Univariate and Bivariate\n",
    "\n",
    " Get data model ready"
   ]
  },
  {
   "cell_type": "code",
   "execution_count": 10,
   "metadata": {},
   "outputs": [
    {
     "data": {
      "text/plain": [
       "ID                    5000\n",
       "Age                     45\n",
       "Experience              44\n",
       "Income                 162\n",
       "ZIP Code               467\n",
       "Family                   4\n",
       "CCAvg                  108\n",
       "Education                3\n",
       "Mortgage               347\n",
       "Personal Loan            2\n",
       "Securities Account       2\n",
       "CD Account               2\n",
       "Online                   2\n",
       "CreditCard               2\n",
       "dtype: int64"
      ]
     },
     "execution_count": 10,
     "metadata": {},
     "output_type": "execute_result"
    }
   ],
   "source": [
    "#Number of unique in each coliumn\n",
    "#The nunique() function returns the count of unique elements in each column\n",
    "df1.nunique()"
   ]
  },
  {
   "cell_type": "code",
   "execution_count": 11,
   "metadata": {},
   "outputs": [
    {
     "data": {
      "text/plain": [
       "3462"
      ]
     },
     "execution_count": 11,
     "metadata": {},
     "output_type": "execute_result"
    }
   ],
   "source": [
    "#Calculating the number of people with zero mortgage\n",
    "(df1[\"Mortgage\"] == 0).sum()"
   ]
  },
  {
   "cell_type": "code",
   "execution_count": 12,
   "metadata": {},
   "outputs": [
    {
     "data": {
      "text/plain": [
       "106"
      ]
     },
     "execution_count": 12,
     "metadata": {},
     "output_type": "execute_result"
    }
   ],
   "source": [
    "#Calculating the number of people with zero credit card spending per month\n",
    "(df1[\"CCAvg\"] == 0).sum()"
   ]
  },
  {
   "cell_type": "code",
   "execution_count": 13,
   "metadata": {},
   "outputs": [
    {
     "data": {
      "text/html": [
       "<div>\n",
       "<style scoped>\n",
       "    .dataframe tbody tr th:only-of-type {\n",
       "        vertical-align: middle;\n",
       "    }\n",
       "\n",
       "    .dataframe tbody tr th {\n",
       "        vertical-align: top;\n",
       "    }\n",
       "\n",
       "    .dataframe thead th {\n",
       "        text-align: right;\n",
       "    }\n",
       "</style>\n",
       "<table border=\"1\" class=\"dataframe\">\n",
       "  <thead>\n",
       "    <tr style=\"text-align: right;\">\n",
       "      <th></th>\n",
       "      <th>ID</th>\n",
       "      <th>ZIP Code</th>\n",
       "      <th>Family</th>\n",
       "      <th>Education</th>\n",
       "      <th>Personal Loan</th>\n",
       "      <th>Securities Account</th>\n",
       "      <th>CD Account</th>\n",
       "      <th>CreditCard</th>\n",
       "    </tr>\n",
       "  </thead>\n",
       "  <tbody>\n",
       "    <tr>\n",
       "      <th>0</th>\n",
       "      <td>NaN</td>\n",
       "      <td>NaN</td>\n",
       "      <td>NaN</td>\n",
       "      <td>NaN</td>\n",
       "      <td>4520.0</td>\n",
       "      <td>4478.0</td>\n",
       "      <td>4698.0</td>\n",
       "      <td>3530.0</td>\n",
       "    </tr>\n",
       "    <tr>\n",
       "      <th>1</th>\n",
       "      <td>1.0</td>\n",
       "      <td>NaN</td>\n",
       "      <td>1472.0</td>\n",
       "      <td>2096.0</td>\n",
       "      <td>480.0</td>\n",
       "      <td>522.0</td>\n",
       "      <td>302.0</td>\n",
       "      <td>1470.0</td>\n",
       "    </tr>\n",
       "    <tr>\n",
       "      <th>2</th>\n",
       "      <td>1.0</td>\n",
       "      <td>NaN</td>\n",
       "      <td>1296.0</td>\n",
       "      <td>1403.0</td>\n",
       "      <td>NaN</td>\n",
       "      <td>NaN</td>\n",
       "      <td>NaN</td>\n",
       "      <td>NaN</td>\n",
       "    </tr>\n",
       "    <tr>\n",
       "      <th>3</th>\n",
       "      <td>1.0</td>\n",
       "      <td>NaN</td>\n",
       "      <td>1010.0</td>\n",
       "      <td>1501.0</td>\n",
       "      <td>NaN</td>\n",
       "      <td>NaN</td>\n",
       "      <td>NaN</td>\n",
       "      <td>NaN</td>\n",
       "    </tr>\n",
       "    <tr>\n",
       "      <th>4</th>\n",
       "      <td>1.0</td>\n",
       "      <td>NaN</td>\n",
       "      <td>1222.0</td>\n",
       "      <td>NaN</td>\n",
       "      <td>NaN</td>\n",
       "      <td>NaN</td>\n",
       "      <td>NaN</td>\n",
       "      <td>NaN</td>\n",
       "    </tr>\n",
       "    <tr>\n",
       "      <th>...</th>\n",
       "      <td>...</td>\n",
       "      <td>...</td>\n",
       "      <td>...</td>\n",
       "      <td>...</td>\n",
       "      <td>...</td>\n",
       "      <td>...</td>\n",
       "      <td>...</td>\n",
       "      <td>...</td>\n",
       "    </tr>\n",
       "    <tr>\n",
       "      <th>96091</th>\n",
       "      <td>NaN</td>\n",
       "      <td>4.0</td>\n",
       "      <td>NaN</td>\n",
       "      <td>NaN</td>\n",
       "      <td>NaN</td>\n",
       "      <td>NaN</td>\n",
       "      <td>NaN</td>\n",
       "      <td>NaN</td>\n",
       "    </tr>\n",
       "    <tr>\n",
       "      <th>96094</th>\n",
       "      <td>NaN</td>\n",
       "      <td>2.0</td>\n",
       "      <td>NaN</td>\n",
       "      <td>NaN</td>\n",
       "      <td>NaN</td>\n",
       "      <td>NaN</td>\n",
       "      <td>NaN</td>\n",
       "      <td>NaN</td>\n",
       "    </tr>\n",
       "    <tr>\n",
       "      <th>96145</th>\n",
       "      <td>NaN</td>\n",
       "      <td>1.0</td>\n",
       "      <td>NaN</td>\n",
       "      <td>NaN</td>\n",
       "      <td>NaN</td>\n",
       "      <td>NaN</td>\n",
       "      <td>NaN</td>\n",
       "      <td>NaN</td>\n",
       "    </tr>\n",
       "    <tr>\n",
       "      <th>96150</th>\n",
       "      <td>NaN</td>\n",
       "      <td>4.0</td>\n",
       "      <td>NaN</td>\n",
       "      <td>NaN</td>\n",
       "      <td>NaN</td>\n",
       "      <td>NaN</td>\n",
       "      <td>NaN</td>\n",
       "      <td>NaN</td>\n",
       "    </tr>\n",
       "    <tr>\n",
       "      <th>96651</th>\n",
       "      <td>NaN</td>\n",
       "      <td>6.0</td>\n",
       "      <td>NaN</td>\n",
       "      <td>NaN</td>\n",
       "      <td>NaN</td>\n",
       "      <td>NaN</td>\n",
       "      <td>NaN</td>\n",
       "      <td>NaN</td>\n",
       "    </tr>\n",
       "  </tbody>\n",
       "</table>\n",
       "<p>5468 rows × 8 columns</p>\n",
       "</div>"
      ],
      "text/plain": [
       "        ID  ZIP Code  Family  Education  Personal Loan  Securities Account  \\\n",
       "0      NaN       NaN     NaN        NaN         4520.0              4478.0   \n",
       "1      1.0       NaN  1472.0     2096.0          480.0               522.0   \n",
       "2      1.0       NaN  1296.0     1403.0            NaN                 NaN   \n",
       "3      1.0       NaN  1010.0     1501.0            NaN                 NaN   \n",
       "4      1.0       NaN  1222.0        NaN            NaN                 NaN   \n",
       "...    ...       ...     ...        ...            ...                 ...   \n",
       "96091  NaN       4.0     NaN        NaN            NaN                 NaN   \n",
       "96094  NaN       2.0     NaN        NaN            NaN                 NaN   \n",
       "96145  NaN       1.0     NaN        NaN            NaN                 NaN   \n",
       "96150  NaN       4.0     NaN        NaN            NaN                 NaN   \n",
       "96651  NaN       6.0     NaN        NaN            NaN                 NaN   \n",
       "\n",
       "       CD Account  CreditCard  \n",
       "0          4698.0      3530.0  \n",
       "1           302.0      1470.0  \n",
       "2             NaN         NaN  \n",
       "3             NaN         NaN  \n",
       "4             NaN         NaN  \n",
       "...           ...         ...  \n",
       "96091         NaN         NaN  \n",
       "96094         NaN         NaN  \n",
       "96145         NaN         NaN  \n",
       "96150         NaN         NaN  \n",
       "96651         NaN         NaN  \n",
       "\n",
       "[5468 rows x 8 columns]"
      ]
     },
     "execution_count": 13,
     "metadata": {},
     "output_type": "execute_result"
    }
   ],
   "source": [
    "#Value counts of all categorical columns\n",
    "# There are 8 catagorical columns present in the given dataset viz., \"ID\", \"ZIP Code\", \"Family\", \"Education\", \n",
    "# \"Personal Loan\", \"Securities account\", \"CD Account\" and \"Credit Card\"\n",
    "df1[[\"ID\", \"ZIP Code\", \"Family\", \"Education\", \"Personal Loan\", \"Securities Account\", \"CD Account\", \"CreditCard\"]].apply(pd.Series.value_counts)"
   ]
  },
  {
   "cell_type": "markdown",
   "metadata": {},
   "source": [
    "### > Vizualizing univariate and bivariate plots for different columns and the relation between them."
   ]
  },
  {
   "cell_type": "markdown",
   "metadata": {},
   "source": [
    "#### displaying the univariate plots for different columns except ID which we can ignore"
   ]
  },
  {
   "cell_type": "code",
   "execution_count": 14,
   "metadata": {},
   "outputs": [
    {
     "data": {
      "image/png": "[encoded data removed]",
      "text/plain": [
       "<Figure size 432x288 with 1 Axes>"
      ]
     },
     "metadata": {
      "needs_background": "light"
     },
     "output_type": "display_data"
    },
    {
     "data": {
      "image/png": "[encoded data removed]",
      "text/plain": [
       "<Figure size 360x360 with 1 Axes>"
      ]
     },
     "metadata": {
      "needs_background": "light"
     },
     "output_type": "display_data"
    }
   ],
   "source": [
    "#Age \n",
    "sns.boxplot(x=\"Age\", data = df1)\n",
    "plt.show()\n",
    "sns.displot(df1[\"Age\"])\n",
    "plt.show()"
   ]
  },
  {
   "cell_type": "markdown",
   "metadata": {},
   "source": [
    "The above plot shows that most of the customers have age ranging somewhere between 25 to 60 years"
   ]
  },
  {
   "cell_type": "code",
   "execution_count": 15,
   "metadata": {},
   "outputs": [
    {
     "data": {
      "image/png": "[encoded data removed]",
      "text/plain": [
       "<Figure size 432x288 with 1 Axes>"
      ]
     },
     "metadata": {
      "needs_background": "light"
     },
     "output_type": "display_data"
    },
    {
     "data": {
      "image/png": "[encoded data removed]",
      "text/plain": [
       "<Figure size 360x360 with 1 Axes>"
      ]
     },
     "metadata": {
      "needs_background": "light"
     },
     "output_type": "display_data"
    }
   ],
   "source": [
    "#Experience\n",
    "sns.boxplot(x=\"Experience\", data = df1)\n",
    "plt.show()\n",
    "sns.displot(df1[\"Experience\"])\n",
    "plt.show()"
   ]
  },
  {
   "cell_type": "markdown",
   "metadata": {},
   "source": [
    "Most of the customers have experience lies about between 5 to 35 years"
   ]
  },
  {
   "cell_type": "code",
   "execution_count": 16,
   "metadata": {},
   "outputs": [
    {
     "data": {
      "image/png": "[encoded data removed]",
      "text/plain": [
       "<Figure size 432x288 with 1 Axes>"
      ]
     },
     "metadata": {
      "needs_background": "light"
     },
     "output_type": "display_data"
    },
    {
     "data": {
      "image/png": "[encoded data removed]",
      "text/plain": [
       "<Figure size 360x360 with 1 Axes>"
      ]
     },
     "metadata": {
      "needs_background": "light"
     },
     "output_type": "display_data"
    }
   ],
   "source": [
    "#Income\n",
    "sns.boxplot(x=\"Income\", data=df1)\n",
    "plt.show()\n",
    "sns.displot(df1[\"Income\"])\n",
    "plt.show()"
   ]
  },
  {
   "cell_type": "markdown",
   "metadata": {},
   "source": [
    "we can observe from the above plots that Income has some outliers and skewed to the right.We can also observe that most of the people have income between about 25k to 100k."
   ]
  },
  {
   "cell_type": "code",
   "execution_count": 17,
   "metadata": {},
   "outputs": [
    {
     "data": {
      "image/png": "[encoded data removed]",
      "text/plain": [
       "<Figure size 432x288 with 1 Axes>"
      ]
     },
     "metadata": {
      "needs_background": "light"
     },
     "output_type": "display_data"
    }
   ],
   "source": [
    "#Family\n",
    "sns.countplot(df1[\"Family\"])\n",
    "plt.show()"
   ]
  },
  {
   "cell_type": "markdown",
   "metadata": {},
   "source": [
    "data for family seems evenly distributed"
   ]
  },
  {
   "cell_type": "code",
   "execution_count": 18,
   "metadata": {},
   "outputs": [
    {
     "data": {
      "image/png": "[encoded data removed]",
      "text/plain": [
       "<Figure size 432x288 with 1 Axes>"
      ]
     },
     "metadata": {
      "needs_background": "light"
     },
     "output_type": "display_data"
    }
   ],
   "source": [
    "#Education\n",
    "sns.countplot(df1[\"Education\"])\n",
    "plt.show()"
   ]
  },
  {
   "cell_type": "markdown",
   "metadata": {},
   "source": [
    "Education data seems evenly distributed"
   ]
  },
  {
   "cell_type": "code",
   "execution_count": 19,
   "metadata": {},
   "outputs": [
    {
     "data": {
      "image/png": "[encoded data removed]",
      "text/plain": [
       "<Figure size 432x288 with 1 Axes>"
      ]
     },
     "metadata": {
      "needs_background": "light"
     },
     "output_type": "display_data"
    }
   ],
   "source": [
    "#Securities Account\n",
    "sns.countplot(df1[\"Securities Account\"])\n",
    "plt.show()"
   ]
  },
  {
   "cell_type": "markdown",
   "metadata": {},
   "source": [
    "very less people seems to have Securities account"
   ]
  },
  {
   "cell_type": "code",
   "execution_count": 20,
   "metadata": {},
   "outputs": [
    {
     "data": {
      "image/png": "[encoded data removed]",
      "text/plain": [
       "<Figure size 432x288 with 1 Axes>"
      ]
     },
     "metadata": {
      "needs_background": "light"
     },
     "output_type": "display_data"
    }
   ],
   "source": [
    "#CD Accoount\n",
    "sns.countplot(df1[\"CD Account\"])\n",
    "plt.show()"
   ]
  },
  {
   "cell_type": "markdown",
   "metadata": {},
   "source": [
    "vey less people seems to have CD Account"
   ]
  },
  {
   "cell_type": "code",
   "execution_count": 21,
   "metadata": {},
   "outputs": [
    {
     "data": {
      "image/png": "[encoded data removed]",
      "text/plain": [
       "<Figure size 432x288 with 1 Axes>"
      ]
     },
     "metadata": {
      "needs_background": "light"
     },
     "output_type": "display_data"
    }
   ],
   "source": [
    "#Online\n",
    "sns.countplot(df1[\"Online\"])\n",
    "plt.show()"
   ]
  },
  {
   "cell_type": "markdown",
   "metadata": {},
   "source": [
    "more people seems to use online banking facility"
   ]
  },
  {
   "cell_type": "code",
   "execution_count": 22,
   "metadata": {},
   "outputs": [
    {
     "data": {
      "image/png": "[encoded data removed]",
      "text/plain": [
       "<Figure size 432x288 with 1 Axes>"
      ]
     },
     "metadata": {
      "needs_background": "light"
     },
     "output_type": "display_data"
    }
   ],
   "source": [
    "#CreditCard\n",
    "sns.countplot(df1[\"CreditCard\"])\n",
    "plt.show()"
   ]
  },
  {
   "cell_type": "markdown",
   "metadata": {},
   "source": [
    "less people seems to use Credit card issues by the bank"
   ]
  },
  {
   "cell_type": "markdown",
   "metadata": {},
   "source": [
    "#### Displaying the relationship between Personal loan with diffrent columns by bivariate plots"
   ]
  },
  {
   "cell_type": "code",
   "execution_count": 23,
   "metadata": {},
   "outputs": [],
   "source": [
    "# defining a function which wiil vizualize the relation between personal loan and other variables in the dataset\n",
    "def relationBetweenVariables(var1, countplot=False, var2 = None):\n",
    "    if countplot:\n",
    "        sns.countplot(x = var1, hue = \"Personal Loan\", data = df1)\n",
    "        plt.show()\n",
    "    else:\n",
    "        sns.boxplot(x = var1, y = var2, hue = \"Personal Loan\", data = df1)\n",
    "        plt.show()"
   ]
  },
  {
   "cell_type": "code",
   "execution_count": 24,
   "metadata": {},
   "outputs": [
    {
     "data": {
      "image/png": "[encoded data removed]",
      "text/plain": [
       "<Figure size 432x288 with 1 Axes>"
      ]
     },
     "metadata": {
      "needs_background": "light"
     },
     "output_type": "display_data"
    }
   ],
   "source": [
    "#The affect of Education and Income in relation with Personal Loan\n",
    "relationBetweenVariables(\"Education\", False, \"Income\")"
   ]
  },
  {
   "cell_type": "markdown",
   "metadata": {},
   "source": [
    "People with higher income likely to choose the personal loan more and the difference get larger as the education level increases"
   ]
  },
  {
   "cell_type": "code",
   "execution_count": 25,
   "metadata": {},
   "outputs": [
    {
     "data": {
      "image/png": "[encoded data removed]",
      "text/plain": [
       "<Figure size 432x288 with 1 Axes>"
      ]
     },
     "metadata": {
      "needs_background": "light"
     },
     "output_type": "display_data"
    }
   ],
   "source": [
    "# The affect of Education and Income in relation to Personal Loan\n",
    "relationBetweenVariables(\"Education\", False, \"Mortgage\")"
   ]
  },
  {
   "cell_type": "markdown",
   "metadata": {},
   "source": [
    "People with higher mortgage more likely to go for personal loan"
   ]
  },
  {
   "cell_type": "code",
   "execution_count": 26,
   "metadata": {},
   "outputs": [
    {
     "data": {
      "image/png": "[encoded data removed]",
      "text/plain": [
       "<Figure size 432x288 with 1 Axes>"
      ]
     },
     "metadata": {
      "needs_background": "light"
     },
     "output_type": "display_data"
    }
   ],
   "source": [
    "# relation between Securities account and Personal Loan\n",
    "relationBetweenVariables(\"Securities Account\", True)"
   ]
  },
  {
   "cell_type": "markdown",
   "metadata": {},
   "source": [
    "The people who didn't seem to take the personal Loan tend to have a Securities Account but in general people tends to have very low number of Securities account irrespective of their decision to take Personal Loan"
   ]
  },
  {
   "cell_type": "code",
   "execution_count": 27,
   "metadata": {},
   "outputs": [
    {
     "data": {
      "image/png": "[encoded data removed]",
      "text/plain": [
       "<Figure size 432x288 with 1 Axes>"
      ]
     },
     "metadata": {
      "needs_background": "light"
     },
     "output_type": "display_data"
    }
   ],
   "source": [
    "#relation between Family and personal account\n",
    "relationBetweenVariables(\"Family\", True)"
   ]
  },
  {
   "cell_type": "markdown",
   "metadata": {},
   "source": [
    "It doensn't seem to be very high effects on the size of the family member in connection to whether the customers"
   ]
  },
  {
   "cell_type": "code",
   "execution_count": 28,
   "metadata": {},
   "outputs": [
    {
     "data": {
      "image/png": "[encoded data removed]",
      "text/plain": [
       "<Figure size 360x360 with 1 Axes>"
      ]
     },
     "metadata": {
      "needs_background": "light"
     },
     "output_type": "display_data"
    },
    {
     "name": "stdout",
     "output_type": "stream",
     "text": [
      "The top five zip codes where people tends to have Personal Loan\n"
     ]
    },
    {
     "data": {
      "text/plain": [
       "94720    19\n",
       "94305    13\n",
       "92093     9\n",
       "90095     8\n",
       "90089     8\n",
       "Name: ZIP Code, dtype: int64"
      ]
     },
     "execution_count": 28,
     "metadata": {},
     "output_type": "execute_result"
    }
   ],
   "source": [
    "#ZIP Code and personal Loan\n",
    "sns.displot(df1[\"ZIP Code\"])\n",
    "plt.show()\n",
    "print(\"The top five zip codes where people tends to have Personal Loan\")\n",
    "df1[df1[\"Personal Loan\"]==1][\"ZIP Code\"].value_counts().head()"
   ]
  },
  {
   "cell_type": "code",
   "execution_count": 29,
   "metadata": {},
   "outputs": [
    {
     "data": {
      "image/png": "[encoded data removed]",
      "text/plain": [
       "<Figure size 432x288 with 1 Axes>"
      ]
     },
     "metadata": {
      "needs_background": "light"
     },
     "output_type": "display_data"
    }
   ],
   "source": [
    "#Relation between Credit card avegrage and Personal Loan\n",
    "sns.distplot( df1[df1[\"Personal Loan\"] == 0][\"CCAvg\"], color = \"r\");\n",
    "sns.distplot( df1[df1[\"Personal Loan\"] == 1]['CCAvg'], color = \"g\");"
   ]
  },
  {
   "cell_type": "markdown",
   "metadata": {},
   "source": [
    "People who have higher Credit card average tends to have higher Personal Loan"
   ]
  },
  {
   "cell_type": "code",
   "execution_count": 30,
   "metadata": {},
   "outputs": [
    {
     "data": {
      "image/png": "[encoded data removed]",
      "text/plain": [
       "<Figure size 864x576 with 2 Axes>"
      ]
     },
     "metadata": {
      "needs_background": "light"
     },
     "output_type": "display_data"
    }
   ],
   "source": [
    "# correlation between diffrent variables \n",
    "plt.figure(figsize=(12,8))\n",
    "sns.heatmap(np.abs(df1.corr()), annot=True, fmt=\".2f\")\n",
    "plt.show()"
   ]
  },
  {
   "cell_type": "markdown",
   "metadata": {},
   "source": [
    "Age and Experience very strongly correlated i.e 0.99\n",
    "\n",
    "Income and CCAvg are moderately correlated i.e. 0.65"
   ]
  },
  {
   "cell_type": "markdown",
   "metadata": {},
   "source": [
    "###  > Get data model ready"
   ]
  },
  {
   "cell_type": "code",
   "execution_count": 31,
   "metadata": {},
   "outputs": [],
   "source": [
    "#Before we proceeding futher with regression analysis we can get rid of unwanted columns such as ID, Experience, Peersonal Loan\n",
    "X = df1.drop([\"ID\", \"Experience\", \"Personal Loan\"], axis=1)\n",
    "y = df1[\"Personal Loan\"]"
   ]
  },
  {
   "cell_type": "markdown",
   "metadata": {},
   "source": [
    "## 3. Split the data into training and test set in the ratio of 70:30 respectively"
   ]
  },
  {
   "cell_type": "code",
   "execution_count": 32,
   "metadata": {},
   "outputs": [],
   "source": [
    "#Spliting the data into 70:30 ration\n",
    "from sklearn.model_selection import train_test_split\n",
    "from sklearn import metrics\n",
    "\n",
    "X_train, X_test, y_train, y_test = train_test_split(X, y, test_size=0.3, random_state=10)"
   ]
  },
  {
   "cell_type": "code",
   "execution_count": 33,
   "metadata": {},
   "outputs": [
    {
     "data": {
      "text/plain": [
       "((3500, 11), (1500, 11))"
      ]
     },
     "execution_count": 33,
     "metadata": {},
     "output_type": "execute_result"
    }
   ],
   "source": [
    "X_train.shape, X_test.shape"
   ]
  },
  {
   "cell_type": "code",
   "execution_count": 34,
   "metadata": {},
   "outputs": [
    {
     "data": {
      "text/plain": [
       "((3500,), (1500,))"
      ]
     },
     "execution_count": 34,
     "metadata": {},
     "output_type": "execute_result"
    }
   ],
   "source": [
    "y_train.shape, y_test.shape"
   ]
  },
  {
   "cell_type": "code",
   "execution_count": 35,
   "metadata": {},
   "outputs": [],
   "source": [
    "# It's better to check the effect of scaling on the dataset, we create another set of data with scaling function applied to it\n",
    "from sklearn import preprocessing\n",
    "SX = preprocessing.scale(X)\n",
    "SX_train, SX_test, y_train, y_test = train_test_split(SX, y, test_size=0.3, random_state=10)"
   ]
  },
  {
   "cell_type": "markdown",
   "metadata": {},
   "source": [
    "## 4. Use Logistic Regression model to predict whether the customer will take personal loan or not. Print all the metrics related for evaluating the model performance (15 marks)"
   ]
  },
  {
   "cell_type": "markdown",
   "metadata": {},
   "source": [
    "#### Logistic regression"
   ]
  },
  {
   "cell_type": "code",
   "execution_count": 37,
   "metadata": {},
   "outputs": [
    {
     "name": "stdout",
     "output_type": "stream",
     "text": [
      "        Age    Income  ZIP Code    Family     CCAvg  Education  Mortgage  \\\n",
      "0 -0.000215  0.037817 -0.000067  0.000158  0.001077   0.000261  0.000563   \n",
      "\n",
      "   Securities Account  CD Account    Online  CreditCard  intercept  \n",
      "0            0.000024    0.000137 -0.000004    0.000001  -0.000001  \n"
     ]
    }
   ],
   "source": [
    "# Importing lbraries from the SCIKIT LEARN\n",
    "from sklearn.linear_model import LogisticRegression\n",
    "\n",
    "model_a = LogisticRegression()\n",
    "\n",
    "# Applying training data to the logistic regression model\n",
    "model_a.fit(X_train, y_train)\n",
    "\n",
    "# Predicting the test results\n",
    "y_predict = model_a.predict(X_test)\n",
    "\n",
    "# Caculating the coefficients of logistic regression model\n",
    "t = list(X_train.columns)\n",
    "coef_df = pd.DataFrame(model_a.coef_, columns= t)\n",
    "coef_df[\"intercept\"] = model_a.intercept_\n",
    "print(coef_df)"
   ]
  },
  {
   "cell_type": "code",
   "execution_count": 38,
   "metadata": {},
   "outputs": [
    {
     "name": "stdout",
     "output_type": "stream",
     "text": [
      "0.9013333333333333\n",
      "[[1305   55]\n",
      " [  93   47]]\n",
      "              precision    recall  f1-score   support\n",
      "\n",
      "           0       0.93      0.96      0.95      1360\n",
      "           1       0.46      0.34      0.39       140\n",
      "\n",
      "    accuracy                           0.90      1500\n",
      "   macro avg       0.70      0.65      0.67      1500\n",
      "weighted avg       0.89      0.90      0.89      1500\n",
      "\n"
     ]
    }
   ],
   "source": [
    "# Calculating the model score and print confusion matrix\n",
    "model_a_score = model_a.score(X_test, y_test)\n",
    "\n",
    "print(model_a_score)\n",
    "print(metrics.confusion_matrix(y_test, y_predict))\n",
    "print(metrics.classification_report(y_test, y_predict))"
   ]
  },
  {
   "cell_type": "code",
   "execution_count": 39,
   "metadata": {},
   "outputs": [
    {
     "name": "stdout",
     "output_type": "stream",
     "text": [
      "        Age   Income  ZIP Code   Family     CCAvg  Education  Mortgage  \\\n",
      "0  0.095939  2.52376 -0.028628  0.78718  0.188024   1.390163   0.00075   \n",
      "\n",
      "   Securities Account  CD Account    Online  CreditCard  intercept  \n",
      "0           -0.216034    0.868527 -0.372198   -0.489009  -4.617005  \n"
     ]
    }
   ],
   "source": [
    "# Applying Scaled training data to the logistic regression model\n",
    "model_b = LogisticRegression()\n",
    "model_b.fit(SX_train, y_train)\n",
    "\n",
    "# Predicting the test results\n",
    "y_predict = model_b.predict(SX_test)\n",
    "\n",
    "# Calculating the coefficients of logistic regression model\n",
    "\n",
    "coef_df = pd.DataFrame(model_b.coef_, columns= t)\n",
    "coef_df[\"intercept\"] = model_b.intercept_\n",
    "print(coef_df)"
   ]
  },
  {
   "cell_type": "code",
   "execution_count": 40,
   "metadata": {},
   "outputs": [
    {
     "name": "stdout",
     "output_type": "stream",
     "text": [
      "0.9526666666666667\n",
      "[[1339   21]\n",
      " [  50   90]]\n",
      "              precision    recall  f1-score   support\n",
      "\n",
      "           0       0.96      0.98      0.97      1360\n",
      "           1       0.81      0.64      0.72       140\n",
      "\n",
      "    accuracy                           0.95      1500\n",
      "   macro avg       0.89      0.81      0.85      1500\n",
      "weighted avg       0.95      0.95      0.95      1500\n",
      "\n"
     ]
    }
   ],
   "source": [
    "model_b_score = model_b.score(SX_test, y_test)\n",
    "\n",
    "print(model_b_score)\n",
    "print(metrics.confusion_matrix(y_test, y_predict))\n",
    "print(metrics.classification_report(y_test, y_predict))"
   ]
  },
  {
   "cell_type": "code",
   "execution_count": 41,
   "metadata": {},
   "outputs": [
    {
     "name": "stdout",
     "output_type": "stream",
     "text": [
      "Train score: 95.02857142857142\n",
      "Test score: 95.26666666666667\n"
     ]
    }
   ],
   "source": [
    "print(\"Train score: {}\".format(model_b.score(SX_train, y_train) * 100))\n",
    "print(\"Test score: {}\".format(model_b.score(SX_test, y_test) * 100))"
   ]
  },
  {
   "cell_type": "markdown",
   "metadata": {},
   "source": [
    "### Model building\n",
    "#### Naive Bayes"
   ]
  },
  {
   "cell_type": "code",
   "execution_count": 42,
   "metadata": {},
   "outputs": [
    {
     "name": "stdout",
     "output_type": "stream",
     "text": [
      "0.886\n",
      "              precision    recall  f1-score   support\n",
      "\n",
      "           0       0.96      0.91      0.94      1360\n",
      "           1       0.42      0.61      0.50       140\n",
      "\n",
      "    accuracy                           0.89      1500\n",
      "   macro avg       0.69      0.76      0.72      1500\n",
      "weighted avg       0.91      0.89      0.90      1500\n",
      "\n",
      "[[1243  117]\n",
      " [  54   86]]\n"
     ]
    }
   ],
   "source": [
    "# Importing lbraries from the SCIKIT LEARN\n",
    "from sklearn.naive_bayes import GaussianNB\n",
    "model_2a = GaussianNB()\n",
    "model_2a.fit(X_train,y_train)\n",
    "y_predict = model_2a.predict(X_test)\n",
    "model_2a_score = model_2a.score(X_test, y_test)\n",
    "\n",
    "print(model_2a_score)\n",
    "print(metrics.classification_report(y_test, y_predict))\n",
    "print(metrics.confusion_matrix(y_test, y_predict))"
   ]
  },
  {
   "cell_type": "code",
   "execution_count": 43,
   "metadata": {},
   "outputs": [
    {
     "name": "stdout",
     "output_type": "stream",
     "text": [
      "0.8786666666666667\n",
      "              precision    recall  f1-score   support\n",
      "\n",
      "           0       0.96      0.91      0.93      1360\n",
      "           1       0.40      0.60      0.48       140\n",
      "\n",
      "    accuracy                           0.88      1500\n",
      "   macro avg       0.68      0.75      0.71      1500\n",
      "weighted avg       0.90      0.88      0.89      1500\n",
      "\n",
      "[[1234  126]\n",
      " [  56   84]]\n"
     ]
    }
   ],
   "source": [
    "model_2b = GaussianNB()\n",
    "model_2b.fit(SX_train,y_train)\n",
    "y_predict = model_2b.predict(SX_test)\n",
    "model_2b_score = model_2b.score(SX_test, y_test)\n",
    "\n",
    "print(model_2b_score)\n",
    "print(metrics.classification_report(y_test, y_predict))\n",
    "print(metrics.confusion_matrix(y_test, y_predict))"
   ]
  },
  {
   "cell_type": "markdown",
   "metadata": {},
   "source": [
    "#### K-Nearest Neighbors (KNN)"
   ]
  },
  {
   "cell_type": "code",
   "execution_count": 44,
   "metadata": {},
   "outputs": [
    {
     "name": "stdout",
     "output_type": "stream",
     "text": [
      "0.8813333333333333\n",
      "              precision    recall  f1-score   support\n",
      "\n",
      "           0       0.93      0.94      0.93      1360\n",
      "           1       0.34      0.30      0.32       140\n",
      "\n",
      "    accuracy                           0.88      1500\n",
      "   macro avg       0.64      0.62      0.63      1500\n",
      "weighted avg       0.87      0.88      0.88      1500\n",
      "\n",
      "[[1280   80]\n",
      " [  98   42]]\n"
     ]
    }
   ],
   "source": [
    "# Importing lbraries from the SCIKIT LEARN\n",
    "from sklearn.neighbors import KNeighborsClassifier\n",
    "knn_a= KNeighborsClassifier(n_neighbors= 3 , weights = \"distance\" )\n",
    "knn_a.fit(X_train, y_train)\n",
    "y_predict = knn_a.predict(X_test)\n",
    "knn_a_score = knn_a.score(X_test, y_test)\n",
    "\n",
    "print(knn_a_score)\n",
    "print(metrics.classification_report(y_test, y_predict))\n",
    "print(metrics.confusion_matrix(y_test, y_predict))"
   ]
  },
  {
   "cell_type": "code",
   "execution_count": 45,
   "metadata": {},
   "outputs": [
    {
     "name": "stdout",
     "output_type": "stream",
     "text": [
      "0.964\n",
      "              precision    recall  f1-score   support\n",
      "\n",
      "           0       0.97      0.99      0.98      1360\n",
      "           1       0.92      0.67      0.78       140\n",
      "\n",
      "    accuracy                           0.96      1500\n",
      "   macro avg       0.94      0.83      0.88      1500\n",
      "weighted avg       0.96      0.96      0.96      1500\n",
      "\n",
      "[[1352    8]\n",
      " [  46   94]]\n"
     ]
    }
   ],
   "source": [
    "knn_b = KNeighborsClassifier(n_neighbors= 3 , weights = \"distance\")\n",
    "knn_b.fit(SX_train, y_train)\n",
    "y_predict = knn_b.predict(SX_test)\n",
    "knn_b_score = knn_b.score(SX_test, y_test)\n",
    "\n",
    "print(knn_b_score)\n",
    "print(metrics.classification_report(y_test, y_predict))\n",
    "print(metrics.confusion_matrix(y_test, y_predict))"
   ]
  },
  {
   "cell_type": "markdown",
   "metadata": {},
   "source": [
    "##### ----------------------------------------------------------------------------------------------------------------------------------------------------------------------"
   ]
  },
  {
   "cell_type": "markdown",
   "metadata": {},
   "source": [
    "The accuracy of the test Logistic regression after scaling on the dataset is 95.26%, which is very high accuracy.In the current dataset, the attributes like income, CC Avergae, CD account have good corelation with personal loan, which make the Logistic regression directly apply the sigmoid function and get the probablity to predict whether a customer is opting for Personal Loan."
   ]
  },
  {
   "cell_type": "markdown",
   "metadata": {},
   "source": [
    "##### Here we can come to the understanding  that people having high Income & CCAvg,  having CD & Securities account  and Family consisting of more than 3 members have higher chances of taking Personal Loan."
   ]
  },
  {
   "cell_type": "markdown",
   "metadata": {},
   "source": [
    "## 5. Check different parameters of Logistic Regression and give your reasoning whether the model performance is affected due to it or not? (10 marks)"
   ]
  },
  {
   "cell_type": "markdown",
   "metadata": {},
   "source": [
    "### Models Comparision and evaluation"
   ]
  },
  {
   "cell_type": "code",
   "execution_count": 46,
   "metadata": {},
   "outputs": [
    {
     "name": "stdout",
     "output_type": "stream",
     "text": [
      "Model Accuracy before scaling:\n",
      "{'Logistic Regression': 0.9013333333333333, 'Naive Bayes': 0.886, 'K-Nearest Neighbors': 0.8813333333333333}\n",
      " \n",
      "Model Accuracy After scaling:\n",
      "{'Logistic Regression': 0.9526666666666667, 'Naive Bayes': 0.8786666666666667, 'K-Nearest Neighbors': 0.964}\n"
     ]
    }
   ],
   "source": [
    "Accuracy_Before_Scaling = {\"Logistic Regression\": model_a_score, \"Naive Bayes\": model_2a_score, \"K-Nearest Neighbors\": knn_a_score}\n",
    "Accuracy_After_Scaling = {\"Logistic Regression\": model_b_score, \"Naive Bayes\": model_2b_score, \"K-Nearest Neighbors\": knn_b_score}\n",
    "\n",
    "print(\"Model Accuracy before scaling:\")\n",
    "print (Accuracy_Before_Scaling)\n",
    "print(\" \")\n",
    "print(\"Model Accuracy After scaling:\")\n",
    "print (Accuracy_After_Scaling)"
   ]
  },
  {
   "cell_type": "markdown",
   "metadata": {},
   "source": [
    "From the above calculation, we can clearly see that k-Nearest neighbors(KNN) algorithm with scaled data gives us the best accuracy of 96.4%, as well as the least Type 1 (False Positive) and Type 2 (False Negative) errors.\n",
    "\n",
    "Hence, in the current set of algorithms applied on the available data, KNN seems to be the best choice to predict the customers who will accept the personal loan"
   ]
  },
  {
   "cell_type": "code",
   "execution_count": 48,
   "metadata": {},
   "outputs": [
    {
     "name": "stdout",
     "output_type": "stream",
     "text": [
      "[[1352    8]\n",
      " [  46   94]]\n"
     ]
    },
    {
     "data": {
      "image/png": "[encoded data removed]",
      "text/plain": [
       "<Figure size 504x360 with 2 Axes>"
      ]
     },
     "metadata": {
      "needs_background": "light"
     },
     "output_type": "display_data"
    }
   ],
   "source": [
    "cm = metrics.confusion_matrix(y_test, y_predict, labels = [1, 0])\n",
    "\n",
    "df_cm = pd.DataFrame(cm, index = [i for i in [\"1\",\"0\"]])\n",
    "                  \n",
    "plt.figure(figsize = (7,5))\n",
    "sns.heatmap(metrics.confusion_matrix(y_test, y_predict), annot = True, cmap = \"Blues\", fmt = \"g\");\n",
    "print(metrics.confusion_matrix(y_test, y_predict))"
   ]
  },
  {
   "cell_type": "markdown",
   "metadata": {},
   "source": [
    "From the above confusion matrix of logistic resgression , we can conclude the following findings:\n",
    "\n",
    "True Positive(TP)(1, 1) - We correctly predicted 94 will take loan.\n",
    "\n",
    "True Negative(TN)(0, 0) - We correctly predicted 1352 will not take loan.\n",
    "\n",
    "False Positive(FP)(0, 1) - we incorrectly predicted that 46 will take loans when they actually did not take Loans.\n",
    "\n",
    "False Negative (FN)(1, 0) - we incorrectly predicted that 8 will not take Loans when they actually did take Loans."
   ]
  },
  {
   "cell_type": "markdown",
   "metadata": {},
   "source": [
    "## 6. Give Business understanding of your model? (5 marks)"
   ]
  },
  {
   "cell_type": "markdown",
   "metadata": {},
   "source": [
    "### From the avobe analysis we can understand the following business insights "
   ]
  },
  {
   "cell_type": "markdown",
   "metadata": {},
   "source": [
    "#### From the above consfusion matrix we can predict the person who is likely to get loan or not. It can be understand as:\n",
    "True Positive (1, 1):\n",
    "\n",
    "Predicted that the personal loan will be granted and the customer was eligibile for loan\n",
    "\n",
    "False Positive (0, 1):\n",
    "\n",
    "Predicted that the personal loan will be granted and the customer was not eligibile for loan\n",
    "\n",
    "True Negative (0, 0):\n",
    "\n",
    "Predicted that the personal loan will not be granted and the customer was not eligibile for loan\n",
    "\n",
    "False Negative (1, 0):\n",
    "\n",
    "Predicted that the personal loan will not be granted and the customer was eligibile for loan\n"
   ]
  },
  {
   "cell_type": "markdown",
   "metadata": {},
   "source": [
    "#### Importnat Metrics\n",
    "The bank will loose money if there were high number of False Positive (FP) cases. So the bank will try to minimize the FP findings. hence prescision is the important metric.\n",
    "\n",
    "The bank will loose some customers in case of False Negative(FN) findings. But that's not going to affect much because bank wants to retain more money than customers.\n",
    "\n",
    "After achieving the desired accuracy we can deploy the model for practical use. The bank now can predict who is eligible for personal loan. They can use the model for upcoming customers."
   ]
  }
 ],
 "metadata": {
  "kernelspec": {
   "display_name": "Python 3",
   "language": "python",
   "name": "python3"
  },
  "language_info": {
   "codemirror_mode": {
    "name": "ipython",
    "version": 3
   },
   "file_extension": ".py",
   "mimetype": "text/x-python",
   "name": "python",
   "nbconvert_exporter": "python",
   "pygments_lexer": "ipython3",
   "version": "3.8.3"
  }
 },
 "nbformat": 4,
 "nbformat_minor": 4
}
